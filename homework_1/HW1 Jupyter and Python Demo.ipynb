{
 "cells": [
  {
   "cell_type": "markdown",
   "id": "64c80c9b",
   "metadata": {},
   "source": [
    "# Homework 1: Python, Jupyter, and Github\n",
    "\n",
    "In this class, we'll make extensive use of:\n",
    "- Python for data processing and visualization\n",
    "- Jupyter notebooks for interactive coding\n",
    "- Github for managing code and other files\n",
    "\n",
    "In this homework, you'll demo your `conda` environment, test out a few plots, and upload your notebook to Github."
   ]
  },
  {
   "cell_type": "markdown",
   "id": "aea80324",
   "metadata": {},
   "source": [
    "## Demo 1: Anaconda environment\n",
    "\n",
    "Run the following code to demo the name of your conda environment:"
   ]
  },
  {
   "cell_type": "code",
   "execution_count": 19,
   "id": "6f8414a1",
   "metadata": {},
   "outputs": [
    {
     "ename": "KeyError",
     "evalue": "'CONDA_DEFAULT_ENV'",
     "output_type": "error",
     "traceback": [
      "\u001b[1;31m---------------------------------------------------------------------------\u001b[0m",
      "\u001b[1;31mKeyError\u001b[0m                                  Traceback (most recent call last)",
      "Cell \u001b[1;32mIn[19], line 2\u001b[0m\n\u001b[0;32m      1\u001b[0m \u001b[38;5;28;01mimport\u001b[39;00m \u001b[38;5;21;01mos\u001b[39;00m\n\u001b[1;32m----> 2\u001b[0m \u001b[38;5;28mprint\u001b[39m(os\u001b[38;5;241m.\u001b[39menviron[\u001b[38;5;124m'\u001b[39m\u001b[38;5;124mCONDA_DEFAULT_ENV\u001b[39m\u001b[38;5;124m'\u001b[39m])\n",
      "File \u001b[1;32m<frozen os>:679\u001b[0m, in \u001b[0;36m__getitem__\u001b[1;34m(self, key)\u001b[0m\n",
      "\u001b[1;31mKeyError\u001b[0m: 'CONDA_DEFAULT_ENV'"
     ]
    }
   ],
   "source": [
    "import os\n",
    "print(os.environ['CONDA_DEFAULT_ENV'])\n",
    "#print('My current conda environment is: '+os.environ['CONDA_DEFAULT_ENV'])"
   ]
  },
  {
   "cell_type": "markdown",
   "id": "9f0f4546",
   "metadata": {},
   "source": [
    "## Demo 2: Python Packages\n",
    "In this course, we will make use of several data processing and visualization packages. Import them here to ensure they work:"
   ]
  },
  {
   "cell_type": "code",
   "execution_count": 17,
   "id": "aef5f923-ad45-44b1-8d4e-2d17ba5a4390",
   "metadata": {},
   "outputs": [
    {
     "name": "stdout",
     "output_type": "stream",
     "text": [
      "Collecting netCDF4\n",
      "  Downloading netCDF4-1.7.1.post2-cp311-cp311-win_amd64.whl.metadata (1.8 kB)\n",
      "Collecting cftime (from netCDF4)\n",
      "  Downloading cftime-1.6.4-cp311-cp311-win_amd64.whl.metadata (8.9 kB)\n",
      "Requirement already satisfied: certifi in c:\\users\\tony\\anaconda3\\lib\\site-packages (from netCDF4) (2024.2.2)\n",
      "Requirement already satisfied: numpy in c:\\users\\tony\\anaconda3\\lib\\site-packages (from netCDF4) (1.26.4)\n",
      "Downloading netCDF4-1.7.1.post2-cp311-cp311-win_amd64.whl (7.0 MB)\n",
      "   ---------------------------------------- 0.0/7.0 MB ? eta -:--:--\n",
      "   ---------------------------------------- 0.0/7.0 MB ? eta -:--:--\n",
      "   ---------------------------------------- 0.0/7.0 MB 320.0 kB/s eta 0:00:22\n",
      "   ---------------------------------------- 0.1/7.0 MB 558.5 kB/s eta 0:00:13\n",
      "    --------------------------------------- 0.1/7.0 MB 944.1 kB/s eta 0:00:08\n",
      "   - -------------------------------------- 0.3/7.0 MB 1.4 MB/s eta 0:00:05\n",
      "   -- ------------------------------------- 0.4/7.0 MB 1.6 MB/s eta 0:00:05\n",
      "   --- ------------------------------------ 0.6/7.0 MB 1.9 MB/s eta 0:00:04\n",
      "   --- ------------------------------------ 0.7/7.0 MB 1.9 MB/s eta 0:00:04\n",
      "   ---- ----------------------------------- 0.8/7.0 MB 2.0 MB/s eta 0:00:04\n",
      "   ----- ---------------------------------- 0.9/7.0 MB 2.1 MB/s eta 0:00:03\n",
      "   ----- ---------------------------------- 1.0/7.0 MB 2.0 MB/s eta 0:00:03\n",
      "   ------ --------------------------------- 1.1/7.0 MB 2.0 MB/s eta 0:00:03\n",
      "   ------ --------------------------------- 1.1/7.0 MB 2.0 MB/s eta 0:00:03\n",
      "   ------- -------------------------------- 1.2/7.0 MB 2.0 MB/s eta 0:00:03\n",
      "   ------- -------------------------------- 1.4/7.0 MB 2.1 MB/s eta 0:00:03\n",
      "   -------- ------------------------------- 1.5/7.0 MB 2.1 MB/s eta 0:00:03\n",
      "   --------- ------------------------------ 1.6/7.0 MB 2.2 MB/s eta 0:00:03\n",
      "   ---------- ----------------------------- 1.8/7.0 MB 2.2 MB/s eta 0:00:03\n",
      "   ---------- ----------------------------- 1.9/7.0 MB 2.2 MB/s eta 0:00:03\n",
      "   ----------- ---------------------------- 2.0/7.0 MB 2.1 MB/s eta 0:00:03\n",
      "   ----------- ---------------------------- 2.1/7.0 MB 2.2 MB/s eta 0:00:03\n",
      "   ----------- ---------------------------- 2.1/7.0 MB 2.1 MB/s eta 0:00:03\n",
      "   ------------ --------------------------- 2.2/7.0 MB 2.1 MB/s eta 0:00:03\n",
      "   ------------- -------------------------- 2.3/7.0 MB 2.1 MB/s eta 0:00:03\n",
      "   ------------- -------------------------- 2.4/7.0 MB 2.1 MB/s eta 0:00:03\n",
      "   -------------- ------------------------- 2.5/7.0 MB 2.2 MB/s eta 0:00:03\n",
      "   -------------- ------------------------- 2.5/7.0 MB 2.1 MB/s eta 0:00:03\n",
      "   --------------- ------------------------ 2.6/7.0 MB 2.0 MB/s eta 0:00:03\n",
      "   --------------- ------------------------ 2.7/7.0 MB 2.1 MB/s eta 0:00:03\n",
      "   ---------------- ----------------------- 2.8/7.0 MB 2.0 MB/s eta 0:00:03\n",
      "   ---------------- ----------------------- 2.9/7.0 MB 2.0 MB/s eta 0:00:03\n",
      "   ---------------- ----------------------- 2.9/7.0 MB 2.0 MB/s eta 0:00:02\n",
      "   ----------------- ---------------------- 3.1/7.0 MB 2.1 MB/s eta 0:00:02\n",
      "   ------------------ --------------------- 3.2/7.0 MB 2.1 MB/s eta 0:00:02\n",
      "   ------------------ --------------------- 3.3/7.0 MB 2.1 MB/s eta 0:00:02\n",
      "   ------------------- -------------------- 3.4/7.0 MB 2.1 MB/s eta 0:00:02\n",
      "   -------------------- ------------------- 3.6/7.0 MB 2.1 MB/s eta 0:00:02\n",
      "   --------------------- ------------------ 3.7/7.0 MB 2.1 MB/s eta 0:00:02\n",
      "   --------------------- ------------------ 3.8/7.0 MB 2.1 MB/s eta 0:00:02\n",
      "   ---------------------- ----------------- 3.9/7.0 MB 2.1 MB/s eta 0:00:02\n",
      "   ----------------------- ---------------- 4.1/7.0 MB 2.2 MB/s eta 0:00:02\n",
      "   ------------------------ --------------- 4.2/7.0 MB 2.2 MB/s eta 0:00:02\n",
      "   ------------------------ --------------- 4.3/7.0 MB 2.1 MB/s eta 0:00:02\n",
      "   ------------------------- -------------- 4.4/7.0 MB 2.2 MB/s eta 0:00:02\n",
      "   ------------------------- -------------- 4.4/7.0 MB 2.2 MB/s eta 0:00:02\n",
      "   ------------------------- -------------- 4.5/7.0 MB 2.1 MB/s eta 0:00:02\n",
      "   -------------------------- ------------- 4.6/7.0 MB 2.1 MB/s eta 0:00:02\n",
      "   --------------------------- ------------ 4.7/7.0 MB 2.2 MB/s eta 0:00:02\n",
      "   ---------------------------- ----------- 4.9/7.0 MB 2.2 MB/s eta 0:00:01\n",
      "   ---------------------------- ----------- 5.0/7.0 MB 2.2 MB/s eta 0:00:01\n",
      "   ----------------------------- ---------- 5.2/7.0 MB 2.2 MB/s eta 0:00:01\n",
      "   ----------------------------- ---------- 5.2/7.0 MB 2.2 MB/s eta 0:00:01\n",
      "   ----------------------------- ---------- 5.2/7.0 MB 2.2 MB/s eta 0:00:01\n",
      "   ------------------------------ --------- 5.4/7.0 MB 2.1 MB/s eta 0:00:01\n",
      "   ------------------------------- -------- 5.4/7.0 MB 2.2 MB/s eta 0:00:01\n",
      "   ------------------------------- -------- 5.6/7.0 MB 2.2 MB/s eta 0:00:01\n",
      "   -------------------------------- ------- 5.7/7.0 MB 2.1 MB/s eta 0:00:01\n",
      "   --------------------------------- ------ 5.8/7.0 MB 2.2 MB/s eta 0:00:01\n",
      "   --------------------------------- ------ 5.9/7.0 MB 2.2 MB/s eta 0:00:01\n",
      "   ---------------------------------- ----- 6.1/7.0 MB 2.2 MB/s eta 0:00:01\n",
      "   ----------------------------------- ---- 6.2/7.0 MB 2.2 MB/s eta 0:00:01\n",
      "   ------------------------------------ --- 6.3/7.0 MB 2.2 MB/s eta 0:00:01\n",
      "   ------------------------------------ --- 6.4/7.0 MB 2.2 MB/s eta 0:00:01\n",
      "   ------------------------------------ --- 6.4/7.0 MB 2.2 MB/s eta 0:00:01\n",
      "   ------------------------------------- -- 6.5/7.0 MB 2.2 MB/s eta 0:00:01\n",
      "   -------------------------------------- - 6.7/7.0 MB 2.2 MB/s eta 0:00:01\n",
      "   -------------------------------------- - 6.8/7.0 MB 2.2 MB/s eta 0:00:01\n",
      "   ---------------------------------------  6.9/7.0 MB 2.2 MB/s eta 0:00:01\n",
      "   ---------------------------------------  7.0/7.0 MB 2.2 MB/s eta 0:00:01\n",
      "   ---------------------------------------- 7.0/7.0 MB 2.2 MB/s eta 0:00:00\n",
      "Downloading cftime-1.6.4-cp311-cp311-win_amd64.whl (190 kB)\n",
      "   ---------------------------------------- 0.0/190.4 kB ? eta -:--:--\n",
      "   ------------------------------ --------- 143.4/190.4 kB 4.2 MB/s eta 0:00:01\n",
      "   ---------------------------------- ----- 163.8/190.4 kB 2.0 MB/s eta 0:00:01\n",
      "   ---------------------------------------- 190.4/190.4 kB 1.9 MB/s eta 0:00:00\n",
      "Installing collected packages: cftime, netCDF4\n",
      "Successfully installed cftime-1.6.4 netCDF4-1.7.1.post2\n"
     ]
    },
    {
     "ename": "ModuleNotFoundError",
     "evalue": "No module named 'cartopy'",
     "output_type": "error",
     "traceback": [
      "\u001b[1;31m---------------------------------------------------------------------------\u001b[0m",
      "\u001b[1;31mModuleNotFoundError\u001b[0m                       Traceback (most recent call last)",
      "Cell \u001b[1;32mIn[17], line 7\u001b[0m\n\u001b[0;32m      5\u001b[0m get_ipython()\u001b[38;5;241m.\u001b[39msystem(\u001b[38;5;124m'\u001b[39m\u001b[38;5;124mpip install netCDF4\u001b[39m\u001b[38;5;124m'\u001b[39m)\n\u001b[0;32m      6\u001b[0m \u001b[38;5;28;01mimport\u001b[39;00m \u001b[38;5;21;01mnetCDF4\u001b[39;00m \u001b[38;5;28;01mas\u001b[39;00m \u001b[38;5;21;01mnc4\u001b[39;00m\n\u001b[1;32m----> 7\u001b[0m \u001b[38;5;28;01mimport\u001b[39;00m \u001b[38;5;21;01mcartopy\u001b[39;00m\u001b[38;5;21;01m.\u001b[39;00m\u001b[38;5;21;01mcrs\u001b[39;00m \u001b[38;5;28;01mas\u001b[39;00m \u001b[38;5;21;01mccrs\u001b[39;00m\n\u001b[0;32m      8\u001b[0m \u001b[38;5;28;01mimport\u001b[39;00m \u001b[38;5;21;01mcartopy\u001b[39;00m\u001b[38;5;21;01m.\u001b[39;00m\u001b[38;5;21;01mfeature\u001b[39;00m \u001b[38;5;28;01mas\u001b[39;00m \u001b[38;5;21;01mcfeature\u001b[39;00m\n",
      "\u001b[1;31mModuleNotFoundError\u001b[0m: No module named 'cartopy'"
     ]
    }
   ],
   "source": [
    "# import some packages to ensure they work\n",
    "import numpy as np\n",
    "import matplotlib.pyplot as plt\n",
    "import xarray as xr\n",
    "!pip install netCDF4\n",
    "import netCDF4 as nc4\n",
    "import cartopy.crs as ccrs\n",
    "import cartopy.feature as cfeature"
   ]
  },
  {
   "cell_type": "markdown",
   "id": "970238f3-75d7-4577-a201-3d3492c9572f",
   "metadata": {},
   "source": [
    "For a sneak peak, run the following code blocks to make a cool map of sea surface temperature on the globe:"
   ]
  },
  {
   "cell_type": "code",
   "execution_count": null,
   "id": "5a98ded7-6414-44f5-9fab-50e855890683",
   "metadata": {},
   "outputs": [],
   "source": [
    "ds = xr.open_dataset('SST_20150101.nc',decode_times=False)\n",
    "longitude = ds['LONGITUDE_T'][:]\n",
    "latitude = ds['LATITUDE_T'][:]\n",
    "SST = ds['SST'][:,:,:]\n",
    "ds.close()\n",
    "SST = SST[0,:,:]"
   ]
  },
  {
   "cell_type": "code",
   "execution_count": null,
   "id": "4a5f39c0",
   "metadata": {},
   "outputs": [],
   "source": [
    "# make a plot of sst here\n",
    "plt.figure()\n",
    "ax = plt.axes(projection=ccrs.Robinson())\n",
    "C = plt.pcolormesh(longitude, latitude, SST,\n",
    "                   transform=ccrs.PlateCarree(),\n",
    "                   vmin=2, vmax=30, cmap='turbo')\n",
    "plt.colorbar(C, label='Temperature $^{\\circ}$C', fraction=0.026)\n",
    "plt.gca().add_feature(cfeature.LAND, zorder=99, facecolor='silver')\n",
    "plt.gca().coastlines()\n",
    "plt.show()"
   ]
  },
  {
   "cell_type": "markdown",
   "id": "bae0e829-1675-4a4e-bffa-2108cc6e5d4c",
   "metadata": {},
   "source": [
    "## Problem 1.3: Course Github Repository"
   ]
  },
  {
   "cell_type": "markdown",
   "id": "5961fec3-73e5-4501-aae3-ba305b435b1a",
   "metadata": {},
   "source": [
    "In this course, all of the course materials will be managed and turned in on Github. If you haven't already done so, make an account Github account and create a repository for this class following the instructions [HERE](https://profmikewood.github.io/ocean_modeling_book/getting_started/setting_up_a_github_repository.html). \n",
    "\n",
    "In your repository, make a directory for `homework` and another subdirectory for `homework 1`, and upload this folder to your Github repository. When your repository is ready it should look like the homework directory in my example [cs185c_fall2024](https://github.com/ProfMikeWood/cs185c_fall2024) repository.\n"
   ]
  }
 ],
 "metadata": {
  "kernelspec": {
   "display_name": "Python 3 (ipykernel)",
   "language": "python",
   "name": "python3"
  },
  "language_info": {
   "codemirror_mode": {
    "name": "ipython",
    "version": 3
   },
   "file_extension": ".py",
   "mimetype": "text/x-python",
   "name": "python",
   "nbconvert_exporter": "python",
   "pygments_lexer": "ipython3",
   "version": "3.11.7"
  }
 },
 "nbformat": 4,
 "nbformat_minor": 5
}
